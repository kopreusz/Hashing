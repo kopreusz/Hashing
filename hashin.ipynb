{
  "nbformat": 4,
  "nbformat_minor": 0,
  "metadata": {
    "colab": {
      "provenance": [],
      "authorship_tag": "ABX9TyPJQ/3DNjNaNvKbJDa13ZL9",
      "include_colab_link": true
    },
    "kernelspec": {
      "name": "python3",
      "display_name": "Python 3"
    },
    "language_info": {
      "name": "python"
    }
  },
  "cells": [
    {
      "cell_type": "markdown",
      "metadata": {
        "id": "view-in-github",
        "colab_type": "text"
      },
      "source": [
        "<a href=\"https://colab.research.google.com/github/kopreusz/Hashing/blob/main/hashin.ipynb\" target=\"_parent\"><img src=\"https://colab.research.google.com/assets/colab-badge.svg\" alt=\"Open In Colab\"/></a>"
      ]
    },
    {
      "cell_type": "markdown",
      "source": [
        "#Hashing\n",
        "\n",
        "is a technic that let us perform many things in linear time. In case you have used nested loops, that are usally require us $O(n^2)$, a good hashtable can reduce it to $O(n)$. The key idea is the following: If we have a dictionary, a lookup only requires us $O(1)$ steps on average, so if we could transform our input into a hashtable, that are $(key,value)$ pairs in linear time, we may get a good use of that $O(1)$ complex lookup. If one who has further interest in the proof of the claim, that lookup in a dictionary requires us $O(1)$ steps on average we recomend reading \"Larry Carter and Mark Wegman Universal Classes of Hash Functions\" theorem 10 on page 151, Journal of Computer and System Science 18 (1979)\n",
        "For others who can accept that, we share a coding example in python:"
      ],
      "metadata": {
        "id": "Zx6pBeMTVxlc"
      }
    },
    {
      "cell_type": "code",
      "execution_count": 23,
      "metadata": {
        "colab": {
          "base_uri": "https://localhost:8080/"
        },
        "id": "d8Ao8IX6PSFz",
        "outputId": "89c0eb25-70ac-45db-d447-2c1a1305e04c"
      },
      "outputs": [
        {
          "output_type": "stream",
          "name": "stdout",
          "text": [
            "key: 0 frequency: 4\n"
          ]
        }
      ],
      "source": [
        "#Given the following list write a code that returns the most frequent element and it's frequency. Now we do not care\n",
        "# if there are more with the same frequency, the point of this work is to present hashtables.\n",
        "\n",
        "events = [1,2,3,2,3,1,0,0,0,0]              # Initial input.\n",
        "hash = {}                                   # Creating a hashtable.\n",
        "for i in range(len(events)):                # We add the keys and their frequencies, it require us n steps.\n",
        "  if events[i] in hash:                     # Here is the key idea: Lookup in a dict requires O(1) steps on average.\n",
        "    hash[events[i]] += 1\n",
        "  else:\n",
        "    hash[events[i]] = 1\n",
        "max = hash[events[0]]                       # Initial value of frequency of the most frequent key\n",
        "key = events[0]                             # Initial kex of the max\n",
        "for i in hash:                              # Simple search for maximum in n steps\n",
        "  if hash[i] > max:\n",
        "    max = hash[i]\n",
        "    key = i\n",
        "print(\"key:\",key,\"frequency:\",max)          # So we have made n*O(1)+n steps,that sums to O(n).\n"
      ]
    },
    {
      "cell_type": "code",
      "source": [],
      "metadata": {
        "id": "DeBBJlAiPbAW"
      },
      "execution_count": null,
      "outputs": []
    }
  ]
}